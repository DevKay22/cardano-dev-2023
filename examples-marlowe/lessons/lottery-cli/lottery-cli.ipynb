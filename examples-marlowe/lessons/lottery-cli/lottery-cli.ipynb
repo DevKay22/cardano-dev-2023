{
 "cells": [
  {
   "cell_type": "code",
   "execution_count": 3,
   "id": "326f464e",
   "metadata": {},
   "outputs": [
    {
     "name": "stdout",
     "output_type": "stream",
     "text": [
      "########################\n",
      "## Check CLI commands ##\n",
      "########################\n",
      "\n",
      "The following required programs are available in the shell:\n",
      "  * jq\n",
      "  * json2yaml\n",
      "  * marlowe-cli\n",
      "  * marlowe-runtime-cli\n",
      "  * cardano-cli\n",
      "  * cardano-address\n",
      "  * cardano-wallet\n",
      "\n",
      "#########################\n",
      "## Check required envs ##\n",
      "#########################\n",
      "\n",
      "The following environment variables are available in the shell:\n",
      "  * CARDANO_NODE_SOCKET_PATH = /ipc/node.socket\n",
      "  * MARLOWE_RT_HOST = proxy\n",
      "  * MARLOWE_RT_PORT = 3700\n",
      "  * MARLOWE_RT_WEBSERVER_HOST = web-server\n",
      "  * MARLOWE_RT_WEBSERVER_PORT = 3780\n",
      "  * MARLOWE_RT_WEBSERVER_URL = http://web-server:3780\n",
      "  * FAUCET_ADDR = addr_test1vr83hwnap8hrglw59e5f6xhq4lsz9uyejtkt7f846g0893g0a74d5\n",
      "  * FAUCET_SKEY = ../../keys/faucet.skey\n",
      "\n",
      "###################\n",
      "## Check Network ##\n",
      "###################\n",
      "\n",
      "The NETWORK is set to preprod\n",
      "CARDANO_TESTNET_MAGIC = 1\n",
      "CARDANO_SCAN_URL = https://preprod.cardanoscan.io\n",
      "MARLOWE_SCAN_URL = https://preprod.marlowescan.com\n"
     ]
    }
   ],
   "source": [
    "export SCRIPTS=../../scripts\n",
    "export KEYS=../../keys\n",
    "source $SCRIPTS/check-tools-and-env.sh"
   ]
  },
  {
   "cell_type": "code",
   "execution_count": 4,
   "id": "4a341c4b",
   "metadata": {},
   "outputs": [
    {
     "name": "stdout",
     "output_type": "stream",
     "text": [
      "ALICE_ADDR = addr_test1vp25zqq382ewtkafmejeu37m7qjwcly8s5rm4nzc3vzavqcnq90w5\n"
     ]
    }
   ],
   "source": [
    "ALICE_SKEY=$KEYS/lender.skey\n",
    "ALICE_ADDR=$(cat $KEYS/lender.address)\n",
    "echo \"ALICE_ADDR = $ALICE_ADDR\""
   ]
  },
  {
   "cell_type": "code",
   "execution_count": 5,
   "id": "90429a14",
   "metadata": {},
   "outputs": [
    {
     "name": "stdout",
     "output_type": "stream",
     "text": [
      "BOB_ADDR = addr_test1vp9lcx33v29jvenwaj8n20mhqy8v8dckj7yp055707egw7ge7c30c\n"
     ]
    }
   ],
   "source": [
    "BOB_SKEY=$KEYS/borrower.skey\n",
    "BOB_ADDR=$(cat $KEYS/borrower.address)\n",
    "echo \"BOB_ADDR = $BOB_ADDR\""
   ]
  },
  {
   "cell_type": "code",
   "execution_count": 6,
   "id": "2615708e",
   "metadata": {},
   "outputs": [
    {
     "name": "stdout",
     "output_type": "stream",
     "text": [
      "CHARLIE_ADDR = addr_test1vqcr8jzg0p5wnrjnlfq5jq905je4snx6ze4m8nk62yyjuccec5lke\n"
     ]
    }
   ],
   "source": [
    "CHARLIE_SKEY=$KEYS/mediator.skey\n",
    "CHARLIE_ADDR=$(cat $KEYS/mediator.address)\n",
    "echo \"CHARLIE_ADDR = $CHARLIE_ADDR\""
   ]
  },
  {
   "cell_type": "code",
   "execution_count": null,
   "id": "e1f2b293",
   "metadata": {},
   "outputs": [],
   "source": [
    "$SCRIPTS/fund-wallets.sh $ALICE_ADDR $BOB_ADDR $CHARLIE_ADDR"
   ]
  },
  {
   "cell_type": "code",
   "execution_count": 13,
   "id": "4ab5ab57",
   "metadata": {},
   "outputs": [
    {
     "name": "stdout",
     "output_type": "stream",
     "text": [
      "                           TxHash                                 TxIx        Amount\n",
      "--------------------------------------------------------------------------------------\n",
      "db06746aa07aaaa17e52fc7fbf39be49dea9bf544deed2ea5f4d003acfa645a2     1        1000000000 lovelace + TxOutDatumNone\n"
     ]
    }
   ],
   "source": [
    "cardano-cli query utxo --testnet-magic \"$CARDANO_TESTNET_MAGIC\" --address \"$ALICE_ADDR\""
   ]
  },
  {
   "cell_type": "code",
   "execution_count": 14,
   "id": "b9a938c3",
   "metadata": {},
   "outputs": [
    {
     "name": "stdout",
     "output_type": "stream",
     "text": [
      "                           TxHash                                 TxIx        Amount\n",
      "--------------------------------------------------------------------------------------\n",
      "db06746aa07aaaa17e52fc7fbf39be49dea9bf544deed2ea5f4d003acfa645a2     2        1000000000 lovelace + TxOutDatumNone\n"
     ]
    }
   ],
   "source": [
    "cardano-cli query utxo --testnet-magic \"$CARDANO_TESTNET_MAGIC\" --address \"$BOB_ADDR\""
   ]
  },
  {
   "cell_type": "code",
   "execution_count": 15,
   "id": "b679721f",
   "metadata": {},
   "outputs": [
    {
     "name": "stdout",
     "output_type": "stream",
     "text": [
      "                           TxHash                                 TxIx        Amount\n",
      "--------------------------------------------------------------------------------------\n",
      "db06746aa07aaaa17e52fc7fbf39be49dea9bf544deed2ea5f4d003acfa645a2     3        1000000000 lovelace + TxOutDatumNone\n"
     ]
    }
   ],
   "source": [
    "cardano-cli query utxo --testnet-magic \"$CARDANO_TESTNET_MAGIC\" --address \"$CHARLIE_ADDR\""
   ]
  },
  {
   "cell_type": "code",
   "execution_count": 16,
   "id": "985a7b0b",
   "metadata": {},
   "outputs": [
    {
     "name": "stdout",
     "output_type": "stream",
     "text": [
      "timeout: 1696464000000\n",
      "timeout_continuation: close\n",
      "when:\n",
      "- case:\n",
      "    deposits: 100000000\n",
      "    into_account:\n",
      "      role_token: Alice\n",
      "    of_token:\n",
      "      currency_symbol: ''\n",
      "      token_name: ''\n",
      "    party:\n",
      "      role_token: Alice\n",
      "  then:\n",
      "    timeout: 1696464000000\n",
      "    timeout_continuation: close\n",
      "    when:\n",
      "    - case:\n",
      "        deposits: 100000000\n",
      "        into_account:\n",
      "          role_token: Bob\n",
      "        of_token:\n",
      "          currency_symbol: ''\n",
      "          token_name: ''\n",
      "        party:\n",
      "          role_token: Bob\n",
      "      then:\n",
      "        timeout: 1696467600000\n",
      "        timeout_continuation: close\n",
      "        when:\n",
      "        - case:\n",
      "            choose_between:\n",
      "            - from: 1\n",
      "              to: 2\n",
      "            for_choice:\n",
      "              choice_name: winner\n",
      "              choice_owner:\n",
      "                role_token: Charlie\n",
      "          then:\n",
      "            else:\n",
      "              else: close\n",
      "              if:\n",
      "                equal_to: 2\n",
      "                value:\n",
      "                  value_of_choice:\n",
      "                    choice_name: winner\n",
      "                    choice_owner:\n",
      "                      role_token: Charlie\n",
      "              then:\n",
      "                from_account:\n",
      "                  role_token: Alice\n",
      "                pay: 100000000\n",
      "                then: close\n",
      "                to:\n",
      "                  account:\n",
      "                    role_token: Bob\n",
      "                token:\n",
      "                  currency_symbol: ''\n",
      "                  token_name: ''\n",
      "            if:\n",
      "              equal_to: 1\n",
      "              value:\n",
      "                value_of_choice:\n",
      "                  choice_name: winner\n",
      "                  choice_owner:\n",
      "                    role_token: Charlie\n",
      "            then:\n",
      "              from_account:\n",
      "                role_token: Bob\n",
      "              pay: 100000000\n",
      "              then: close\n",
      "              to:\n",
      "                account:\n",
      "                  role_token: Alice\n",
      "              token:\n",
      "                currency_symbol: ''\n",
      "                token_name: ''\n",
      "- case:\n",
      "    deposits: 100000000\n",
      "    into_account:\n",
      "      role_token: Bob\n",
      "    of_token:\n",
      "      currency_symbol: ''\n",
      "      token_name: ''\n",
      "    party:\n",
      "      role_token: Bob\n",
      "  then:\n",
      "    timeout: 1696464000000\n",
      "    timeout_continuation: close\n",
      "    when:\n",
      "    - case:\n",
      "        deposits: 100000000\n",
      "        into_account:\n",
      "          role_token: Alice\n",
      "        of_token:\n",
      "          currency_symbol: ''\n",
      "          token_name: ''\n",
      "        party:\n",
      "          role_token: Alice\n",
      "      then:\n",
      "        timeout: 1696467600000\n",
      "        timeout_continuation: close\n",
      "        when:\n",
      "        - case:\n",
      "            choose_between:\n",
      "            - from: 1\n",
      "              to: 2\n",
      "            for_choice:\n",
      "              choice_name: winner\n",
      "              choice_owner:\n",
      "                role_token: Charlie\n",
      "          then:\n",
      "            else:\n",
      "              else: close\n",
      "              if:\n",
      "                equal_to: 2\n",
      "                value:\n",
      "                  value_of_choice:\n",
      "                    choice_name: winner\n",
      "                    choice_owner:\n",
      "                      role_token: Charlie\n",
      "              then:\n",
      "                from_account:\n",
      "                  role_token: Alice\n",
      "                pay: 100000000\n",
      "                then: close\n",
      "                to:\n",
      "                  account:\n",
      "                    role_token: Bob\n",
      "                token:\n",
      "                  currency_symbol: ''\n",
      "                  token_name: ''\n",
      "            if:\n",
      "              equal_to: 1\n",
      "              value:\n",
      "                value_of_choice:\n",
      "                  choice_name: winner\n",
      "                  choice_owner:\n",
      "                    role_token: Charlie\n",
      "            then:\n",
      "              from_account:\n",
      "                role_token: Bob\n",
      "              pay: 100000000\n",
      "              then: close\n",
      "              to:\n",
      "                account:\n",
      "                  role_token: Alice\n",
      "              token:\n",
      "                currency_symbol: ''\n",
      "                token_name: ''\n"
     ]
    }
   ],
   "source": [
    "json2yaml lottery-contract.json"
   ]
  },
  {
   "cell_type": "code",
   "execution_count": 28,
   "id": "f2bda442",
   "metadata": {},
   "outputs": [],
   "source": [
    "MIN_LOVELACE=2000000"
   ]
  },
  {
   "cell_type": "code",
   "execution_count": 29,
   "id": "384271e9",
   "metadata": {},
   "outputs": [
    {
     "name": "stdout",
     "output_type": "stream",
     "text": [
      "\u001b[1;39m{\n",
      "  \u001b[0m\u001b[34;1m\"contract\"\u001b[0m\u001b[1;39m: \u001b[0m\u001b[1;39m{\n",
      "    \u001b[0m\u001b[34;1m\"timeout\"\u001b[0m\u001b[1;39m: \u001b[0m\u001b[0;39m1696464000000\u001b[0m\u001b[1;39m,\n",
      "    \u001b[0m\u001b[34;1m\"timeout_continuation\"\u001b[0m\u001b[1;39m: \u001b[0m\u001b[0;32m\"close\"\u001b[0m\u001b[1;39m,\n",
      "    \u001b[0m\u001b[34;1m\"when\"\u001b[0m\u001b[1;39m: \u001b[0m\u001b[1;39m[\n",
      "      \u001b[1;39m{\n",
      "        \u001b[0m\u001b[34;1m\"case\"\u001b[0m\u001b[1;39m: \u001b[0m\u001b[1;39m{\n",
      "          \u001b[0m\u001b[34;1m\"deposits\"\u001b[0m\u001b[1;39m: \u001b[0m\u001b[0;39m100000000\u001b[0m\u001b[1;39m,\n",
      "          \u001b[0m\u001b[34;1m\"into_account\"\u001b[0m\u001b[1;39m: \u001b[0m\u001b[1;39m{\n",
      "            \u001b[0m\u001b[34;1m\"role_token\"\u001b[0m\u001b[1;39m: \u001b[0m\u001b[0;32m\"Alice\"\u001b[0m\u001b[1;39m\n",
      "          \u001b[1;39m}\u001b[0m\u001b[1;39m,\n",
      "          \u001b[0m\u001b[34;1m\"of_token\"\u001b[0m\u001b[1;39m: \u001b[0m\u001b[1;39m{\n",
      "            \u001b[0m\u001b[34;1m\"currency_symbol\"\u001b[0m\u001b[1;39m: \u001b[0m\u001b[0;32m\"\"\u001b[0m\u001b[1;39m,\n",
      "            \u001b[0m\u001b[34;1m\"token_name\"\u001b[0m\u001b[1;39m: \u001b[0m\u001b[0;32m\"\"\u001b[0m\u001b[1;39m\n",
      "          \u001b[1;39m}\u001b[0m\u001b[1;39m,\n",
      "          \u001b[0m\u001b[34;1m\"party\"\u001b[0m\u001b[1;39m: \u001b[0m\u001b[1;39m{\n",
      "            \u001b[0m\u001b[34;1m\"role_token\"\u001b[0m\u001b[1;39m: \u001b[0m\u001b[0;32m\"Alice\"\u001b[0m\u001b[1;39m\n",
      "          \u001b[1;39m}\u001b[0m\u001b[1;39m\n",
      "        \u001b[1;39m}\u001b[0m\u001b[1;39m,\n",
      "        \u001b[0m\u001b[34;1m\"then\"\u001b[0m\u001b[1;39m: \u001b[0m\u001b[1;39m{\n",
      "          \u001b[0m\u001b[34;1m\"timeout\"\u001b[0m\u001b[1;39m: \u001b[0m\u001b[0;39m1696464000000\u001b[0m\u001b[1;39m,\n",
      "          \u001b[0m\u001b[34;1m\"timeout_continuation\"\u001b[0m\u001b[1;39m: \u001b[0m\u001b[0;32m\"close\"\u001b[0m\u001b[1;39m,\n",
      "          \u001b[0m\u001b[34;1m\"when\"\u001b[0m\u001b[1;39m: \u001b[0m\u001b[1;39m[\n",
      "            \u001b[1;39m{\n",
      "              \u001b[0m\u001b[34;1m\"case\"\u001b[0m\u001b[1;39m: \u001b[0m\u001b[1;39m{\n",
      "                \u001b[0m\u001b[34;1m\"deposits\"\u001b[0m\u001b[1;39m: \u001b[0m\u001b[0;39m100000000\u001b[0m\u001b[1;39m,\n",
      "                \u001b[0m\u001b[34;1m\"into_account\"\u001b[0m\u001b[1;39m: \u001b[0m\u001b[1;39m{\n",
      "                  \u001b[0m\u001b[34;1m\"role_token\"\u001b[0m\u001b[1;39m: \u001b[0m\u001b[0;32m\"Bob\"\u001b[0m\u001b[1;39m\n",
      "                \u001b[1;39m}\u001b[0m\u001b[1;39m,\n",
      "                \u001b[0m\u001b[34;1m\"of_token\"\u001b[0m\u001b[1;39m: \u001b[0m\u001b[1;39m{\n",
      "                  \u001b[0m\u001b[34;1m\"currency_symbol\"\u001b[0m\u001b[1;39m: \u001b[0m\u001b[0;32m\"\"\u001b[0m\u001b[1;39m,\n",
      "                  \u001b[0m\u001b[34;1m\"token_name\"\u001b[0m\u001b[1;39m: \u001b[0m\u001b[0;32m\"\"\u001b[0m\u001b[1;39m\n",
      "                \u001b[1;39m}\u001b[0m\u001b[1;39m,\n",
      "                \u001b[0m\u001b[34;1m\"party\"\u001b[0m\u001b[1;39m: \u001b[0m\u001b[1;39m{\n",
      "                  \u001b[0m\u001b[34;1m\"role_token\"\u001b[0m\u001b[1;39m: \u001b[0m\u001b[0;32m\"Bob\"\u001b[0m\u001b[1;39m\n",
      "                \u001b[1;39m}\u001b[0m\u001b[1;39m\n",
      "              \u001b[1;39m}\u001b[0m\u001b[1;39m,\n",
      "              \u001b[0m\u001b[34;1m\"then\"\u001b[0m\u001b[1;39m: \u001b[0m\u001b[1;39m{\n",
      "                \u001b[0m\u001b[34;1m\"timeout\"\u001b[0m\u001b[1;39m: \u001b[0m\u001b[0;39m1696467600000\u001b[0m\u001b[1;39m,\n",
      "                \u001b[0m\u001b[34;1m\"timeout_continuation\"\u001b[0m\u001b[1;39m: \u001b[0m\u001b[0;32m\"close\"\u001b[0m\u001b[1;39m,\n",
      "                \u001b[0m\u001b[34;1m\"when\"\u001b[0m\u001b[1;39m: \u001b[0m\u001b[1;39m[\n",
      "                  \u001b[1;39m{\n",
      "                    \u001b[0m\u001b[34;1m\"case\"\u001b[0m\u001b[1;39m: \u001b[0m\u001b[1;39m{\n",
      "                      \u001b[0m\u001b[34;1m\"choose_between\"\u001b[0m\u001b[1;39m: \u001b[0m\u001b[1;39m[\n",
      "                        \u001b[1;39m{\n",
      "                          \u001b[0m\u001b[34;1m\"from\"\u001b[0m\u001b[1;39m: \u001b[0m\u001b[0;39m1\u001b[0m\u001b[1;39m,\n",
      "                          \u001b[0m\u001b[34;1m\"to\"\u001b[0m\u001b[1;39m: \u001b[0m\u001b[0;39m2\u001b[0m\u001b[1;39m\n",
      "                        \u001b[1;39m}\u001b[0m\u001b[1;39m\n",
      "                      \u001b[1;39m]\u001b[0m\u001b[1;39m,\n",
      "                      \u001b[0m\u001b[34;1m\"for_choice\"\u001b[0m\u001b[1;39m: \u001b[0m\u001b[1;39m{\n",
      "                        \u001b[0m\u001b[34;1m\"choice_name\"\u001b[0m\u001b[1;39m: \u001b[0m\u001b[0;32m\"winner\"\u001b[0m\u001b[1;39m,\n",
      "                        \u001b[0m\u001b[34;1m\"choice_owner\"\u001b[0m\u001b[1;39m: \u001b[0m\u001b[1;39m{\n",
      "                          \u001b[0m\u001b[34;1m\"role_token\"\u001b[0m\u001b[1;39m: \u001b[0m\u001b[0;32m\"Charlie\"\u001b[0m\u001b[1;39m\n",
      "                        \u001b[1;39m}\u001b[0m\u001b[1;39m\n",
      "                      \u001b[1;39m}\u001b[0m\u001b[1;39m\n",
      "                    \u001b[1;39m}\u001b[0m\u001b[1;39m,\n",
      "                    \u001b[0m\u001b[34;1m\"then\"\u001b[0m\u001b[1;39m: \u001b[0m\u001b[1;39m{\n",
      "                      \u001b[0m\u001b[34;1m\"else\"\u001b[0m\u001b[1;39m: \u001b[0m\u001b[1;39m{\n",
      "                        \u001b[0m\u001b[34;1m\"else\"\u001b[0m\u001b[1;39m: \u001b[0m\u001b[0;32m\"close\"\u001b[0m\u001b[1;39m,\n",
      "                        \u001b[0m\u001b[34;1m\"if\"\u001b[0m\u001b[1;39m: \u001b[0m\u001b[1;39m{\n",
      "                          \u001b[0m\u001b[34;1m\"equal_to\"\u001b[0m\u001b[1;39m: \u001b[0m\u001b[0;39m2\u001b[0m\u001b[1;39m,\n",
      "                          \u001b[0m\u001b[34;1m\"value\"\u001b[0m\u001b[1;39m: \u001b[0m\u001b[1;39m{\n",
      "                            \u001b[0m\u001b[34;1m\"value_of_choice\"\u001b[0m\u001b[1;39m: \u001b[0m\u001b[1;39m{\n",
      "                              \u001b[0m\u001b[34;1m\"choice_name\"\u001b[0m\u001b[1;39m: \u001b[0m\u001b[0;32m\"winner\"\u001b[0m\u001b[1;39m,\n",
      "                              \u001b[0m\u001b[34;1m\"choice_owner\"\u001b[0m\u001b[1;39m: \u001b[0m\u001b[1;39m{\n",
      "                                \u001b[0m\u001b[34;1m\"role_token\"\u001b[0m\u001b[1;39m: \u001b[0m\u001b[0;32m\"Charlie\"\u001b[0m\u001b[1;39m\n",
      "                              \u001b[1;39m}\u001b[0m\u001b[1;39m\n",
      "                            \u001b[1;39m}\u001b[0m\u001b[1;39m\n",
      "                          \u001b[1;39m}\u001b[0m\u001b[1;39m\n",
      "                        \u001b[1;39m}\u001b[0m\u001b[1;39m,\n",
      "                        \u001b[0m\u001b[34;1m\"then\"\u001b[0m\u001b[1;39m: \u001b[0m\u001b[1;39m{\n",
      "                          \u001b[0m\u001b[34;1m\"from_account\"\u001b[0m\u001b[1;39m: \u001b[0m\u001b[1;39m{\n",
      "                            \u001b[0m\u001b[34;1m\"role_token\"\u001b[0m\u001b[1;39m: \u001b[0m\u001b[0;32m\"Alice\"\u001b[0m\u001b[1;39m\n",
      "                          \u001b[1;39m}\u001b[0m\u001b[1;39m,\n",
      "                          \u001b[0m\u001b[34;1m\"pay\"\u001b[0m\u001b[1;39m: \u001b[0m\u001b[0;39m100000000\u001b[0m\u001b[1;39m,\n",
      "                          \u001b[0m\u001b[34;1m\"then\"\u001b[0m\u001b[1;39m: \u001b[0m\u001b[0;32m\"close\"\u001b[0m\u001b[1;39m,\n",
      "                          \u001b[0m\u001b[34;1m\"to\"\u001b[0m\u001b[1;39m: \u001b[0m\u001b[1;39m{\n",
      "                            \u001b[0m\u001b[34;1m\"account\"\u001b[0m\u001b[1;39m: \u001b[0m\u001b[1;39m{\n",
      "                              \u001b[0m\u001b[34;1m\"role_token\"\u001b[0m\u001b[1;39m: \u001b[0m\u001b[0;32m\"Bob\"\u001b[0m\u001b[1;39m\n",
      "                            \u001b[1;39m}\u001b[0m\u001b[1;39m\n",
      "                          \u001b[1;39m}\u001b[0m\u001b[1;39m,\n",
      "                          \u001b[0m\u001b[34;1m\"token\"\u001b[0m\u001b[1;39m: \u001b[0m\u001b[1;39m{\n",
      "                            \u001b[0m\u001b[34;1m\"currency_symbol\"\u001b[0m\u001b[1;39m: \u001b[0m\u001b[0;32m\"\"\u001b[0m\u001b[1;39m,\n",
      "                            \u001b[0m\u001b[34;1m\"token_name\"\u001b[0m\u001b[1;39m: \u001b[0m\u001b[0;32m\"\"\u001b[0m\u001b[1;39m\n",
      "                          \u001b[1;39m}\u001b[0m\u001b[1;39m\n",
      "                        \u001b[1;39m}\u001b[0m\u001b[1;39m\n",
      "                      \u001b[1;39m}\u001b[0m\u001b[1;39m,\n",
      "                      \u001b[0m\u001b[34;1m\"if\"\u001b[0m\u001b[1;39m: \u001b[0m\u001b[1;39m{\n",
      "                        \u001b[0m\u001b[34;1m\"equal_to\"\u001b[0m\u001b[1;39m: \u001b[0m\u001b[0;39m1\u001b[0m\u001b[1;39m,\n",
      "                        \u001b[0m\u001b[34;1m\"value\"\u001b[0m\u001b[1;39m: \u001b[0m\u001b[1;39m{\n",
      "                          \u001b[0m\u001b[34;1m\"value_of_choice\"\u001b[0m\u001b[1;39m: \u001b[0m\u001b[1;39m{\n",
      "                            \u001b[0m\u001b[34;1m\"choice_name\"\u001b[0m\u001b[1;39m: \u001b[0m\u001b[0;32m\"winner\"\u001b[0m\u001b[1;39m,\n",
      "                            \u001b[0m\u001b[34;1m\"choice_owner\"\u001b[0m\u001b[1;39m: \u001b[0m\u001b[1;39m{\n",
      "                              \u001b[0m\u001b[34;1m\"role_token\"\u001b[0m\u001b[1;39m: \u001b[0m\u001b[0;32m\"Charlie\"\u001b[0m\u001b[1;39m\n",
      "                            \u001b[1;39m}\u001b[0m\u001b[1;39m\n",
      "                          \u001b[1;39m}\u001b[0m\u001b[1;39m\n",
      "                        \u001b[1;39m}\u001b[0m\u001b[1;39m\n",
      "                      \u001b[1;39m}\u001b[0m\u001b[1;39m,\n",
      "                      \u001b[0m\u001b[34;1m\"then\"\u001b[0m\u001b[1;39m: \u001b[0m\u001b[1;39m{\n",
      "                        \u001b[0m\u001b[34;1m\"from_account\"\u001b[0m\u001b[1;39m: \u001b[0m\u001b[1;39m{\n",
      "                          \u001b[0m\u001b[34;1m\"role_token\"\u001b[0m\u001b[1;39m: \u001b[0m\u001b[0;32m\"Bob\"\u001b[0m\u001b[1;39m\n",
      "                        \u001b[1;39m}\u001b[0m\u001b[1;39m,\n",
      "                        \u001b[0m\u001b[34;1m\"pay\"\u001b[0m\u001b[1;39m: \u001b[0m\u001b[0;39m100000000\u001b[0m\u001b[1;39m,\n",
      "                        \u001b[0m\u001b[34;1m\"then\"\u001b[0m\u001b[1;39m: \u001b[0m\u001b[0;32m\"close\"\u001b[0m\u001b[1;39m,\n",
      "                        \u001b[0m\u001b[34;1m\"to\"\u001b[0m\u001b[1;39m: \u001b[0m\u001b[1;39m{\n",
      "                          \u001b[0m\u001b[34;1m\"account\"\u001b[0m\u001b[1;39m: \u001b[0m\u001b[1;39m{\n",
      "                            \u001b[0m\u001b[34;1m\"role_token\"\u001b[0m\u001b[1;39m: \u001b[0m\u001b[0;32m\"Alice\"\u001b[0m\u001b[1;39m\n",
      "                          \u001b[1;39m}\u001b[0m\u001b[1;39m\n",
      "                        \u001b[1;39m}\u001b[0m\u001b[1;39m,\n",
      "                        \u001b[0m\u001b[34;1m\"token\"\u001b[0m\u001b[1;39m: \u001b[0m\u001b[1;39m{\n",
      "                          \u001b[0m\u001b[34;1m\"currency_symbol\"\u001b[0m\u001b[1;39m: \u001b[0m\u001b[0;32m\"\"\u001b[0m\u001b[1;39m,\n",
      "                          \u001b[0m\u001b[34;1m\"token_name\"\u001b[0m\u001b[1;39m: \u001b[0m\u001b[0;32m\"\"\u001b[0m\u001b[1;39m\n",
      "                        \u001b[1;39m}\u001b[0m\u001b[1;39m\n",
      "                      \u001b[1;39m}\u001b[0m\u001b[1;39m\n",
      "                    \u001b[1;39m}\u001b[0m\u001b[1;39m\n",
      "                  \u001b[1;39m}\u001b[0m\u001b[1;39m\n",
      "                \u001b[1;39m]\u001b[0m\u001b[1;39m\n",
      "              \u001b[1;39m}\u001b[0m\u001b[1;39m\n",
      "            \u001b[1;39m}\u001b[0m\u001b[1;39m\n",
      "          \u001b[1;39m]\u001b[0m\u001b[1;39m\n",
      "        \u001b[1;39m}\u001b[0m\u001b[1;39m\n",
      "      \u001b[1;39m}\u001b[0m\u001b[1;39m,\n",
      "      \u001b[1;39m{\n",
      "        \u001b[0m\u001b[34;1m\"case\"\u001b[0m\u001b[1;39m: \u001b[0m\u001b[1;39m{\n",
      "          \u001b[0m\u001b[34;1m\"deposits\"\u001b[0m\u001b[1;39m: \u001b[0m\u001b[0;39m100000000\u001b[0m\u001b[1;39m,\n",
      "          \u001b[0m\u001b[34;1m\"into_account\"\u001b[0m\u001b[1;39m: \u001b[0m\u001b[1;39m{\n",
      "            \u001b[0m\u001b[34;1m\"role_token\"\u001b[0m\u001b[1;39m: \u001b[0m\u001b[0;32m\"Bob\"\u001b[0m\u001b[1;39m\n",
      "          \u001b[1;39m}\u001b[0m\u001b[1;39m,\n",
      "          \u001b[0m\u001b[34;1m\"of_token\"\u001b[0m\u001b[1;39m: \u001b[0m\u001b[1;39m{\n",
      "            \u001b[0m\u001b[34;1m\"currency_symbol\"\u001b[0m\u001b[1;39m: \u001b[0m\u001b[0;32m\"\"\u001b[0m\u001b[1;39m,\n",
      "            \u001b[0m\u001b[34;1m\"token_name\"\u001b[0m\u001b[1;39m: \u001b[0m\u001b[0;32m\"\"\u001b[0m\u001b[1;39m\n",
      "          \u001b[1;39m}\u001b[0m\u001b[1;39m,\n",
      "          \u001b[0m\u001b[34;1m\"party\"\u001b[0m\u001b[1;39m: \u001b[0m\u001b[1;39m{\n",
      "            \u001b[0m\u001b[34;1m\"role_token\"\u001b[0m\u001b[1;39m: \u001b[0m\u001b[0;32m\"Bob\"\u001b[0m\u001b[1;39m\n"
     ]
    },
    {
     "name": "stdout",
     "output_type": "stream",
     "text": [
      "          \u001b[1;39m}\u001b[0m\u001b[1;39m\n",
      "        \u001b[1;39m}\u001b[0m\u001b[1;39m,\n",
      "        \u001b[0m\u001b[34;1m\"then\"\u001b[0m\u001b[1;39m: \u001b[0m\u001b[1;39m{\n",
      "          \u001b[0m\u001b[34;1m\"timeout\"\u001b[0m\u001b[1;39m: \u001b[0m\u001b[0;39m1696464000000\u001b[0m\u001b[1;39m,\n",
      "          \u001b[0m\u001b[34;1m\"timeout_continuation\"\u001b[0m\u001b[1;39m: \u001b[0m\u001b[0;32m\"close\"\u001b[0m\u001b[1;39m,\n",
      "          \u001b[0m\u001b[34;1m\"when\"\u001b[0m\u001b[1;39m: \u001b[0m\u001b[1;39m[\n",
      "            \u001b[1;39m{\n",
      "              \u001b[0m\u001b[34;1m\"case\"\u001b[0m\u001b[1;39m: \u001b[0m\u001b[1;39m{\n",
      "                \u001b[0m\u001b[34;1m\"deposits\"\u001b[0m\u001b[1;39m: \u001b[0m\u001b[0;39m100000000\u001b[0m\u001b[1;39m,\n",
      "                \u001b[0m\u001b[34;1m\"into_account\"\u001b[0m\u001b[1;39m: \u001b[0m\u001b[1;39m{\n",
      "                  \u001b[0m\u001b[34;1m\"role_token\"\u001b[0m\u001b[1;39m: \u001b[0m\u001b[0;32m\"Alice\"\u001b[0m\u001b[1;39m\n",
      "                \u001b[1;39m}\u001b[0m\u001b[1;39m,\n",
      "                \u001b[0m\u001b[34;1m\"of_token\"\u001b[0m\u001b[1;39m: \u001b[0m\u001b[1;39m{\n",
      "                  \u001b[0m\u001b[34;1m\"currency_symbol\"\u001b[0m\u001b[1;39m: \u001b[0m\u001b[0;32m\"\"\u001b[0m\u001b[1;39m,\n",
      "                  \u001b[0m\u001b[34;1m\"token_name\"\u001b[0m\u001b[1;39m: \u001b[0m\u001b[0;32m\"\"\u001b[0m\u001b[1;39m\n",
      "                \u001b[1;39m}\u001b[0m\u001b[1;39m,\n",
      "                \u001b[0m\u001b[34;1m\"party\"\u001b[0m\u001b[1;39m: \u001b[0m\u001b[1;39m{\n",
      "                  \u001b[0m\u001b[34;1m\"role_token\"\u001b[0m\u001b[1;39m: \u001b[0m\u001b[0;32m\"Alice\"\u001b[0m\u001b[1;39m\n",
      "                \u001b[1;39m}\u001b[0m\u001b[1;39m\n",
      "              \u001b[1;39m}\u001b[0m\u001b[1;39m,\n",
      "              \u001b[0m\u001b[34;1m\"then\"\u001b[0m\u001b[1;39m: \u001b[0m\u001b[1;39m{\n",
      "                \u001b[0m\u001b[34;1m\"timeout\"\u001b[0m\u001b[1;39m: \u001b[0m\u001b[0;39m1696467600000\u001b[0m\u001b[1;39m,\n",
      "                \u001b[0m\u001b[34;1m\"timeout_continuation\"\u001b[0m\u001b[1;39m: \u001b[0m\u001b[0;32m\"close\"\u001b[0m\u001b[1;39m,\n",
      "                \u001b[0m\u001b[34;1m\"when\"\u001b[0m\u001b[1;39m: \u001b[0m\u001b[1;39m[\n",
      "                  \u001b[1;39m{\n",
      "                    \u001b[0m\u001b[34;1m\"case\"\u001b[0m\u001b[1;39m: \u001b[0m\u001b[1;39m{\n",
      "                      \u001b[0m\u001b[34;1m\"choose_between\"\u001b[0m\u001b[1;39m: \u001b[0m\u001b[1;39m[\n",
      "                        \u001b[1;39m{\n",
      "                          \u001b[0m\u001b[34;1m\"from\"\u001b[0m\u001b[1;39m: \u001b[0m\u001b[0;39m1\u001b[0m\u001b[1;39m,\n",
      "                          \u001b[0m\u001b[34;1m\"to\"\u001b[0m\u001b[1;39m: \u001b[0m\u001b[0;39m2\u001b[0m\u001b[1;39m\n",
      "                        \u001b[1;39m}\u001b[0m\u001b[1;39m\n",
      "                      \u001b[1;39m]\u001b[0m\u001b[1;39m,\n",
      "                      \u001b[0m\u001b[34;1m\"for_choice\"\u001b[0m\u001b[1;39m: \u001b[0m\u001b[1;39m{\n",
      "                        \u001b[0m\u001b[34;1m\"choice_name\"\u001b[0m\u001b[1;39m: \u001b[0m\u001b[0;32m\"winner\"\u001b[0m\u001b[1;39m,\n",
      "                        \u001b[0m\u001b[34;1m\"choice_owner\"\u001b[0m\u001b[1;39m: \u001b[0m\u001b[1;39m{\n",
      "                          \u001b[0m\u001b[34;1m\"role_token\"\u001b[0m\u001b[1;39m: \u001b[0m\u001b[0;32m\"Charlie\"\u001b[0m\u001b[1;39m\n",
      "                        \u001b[1;39m}\u001b[0m\u001b[1;39m\n",
      "                      \u001b[1;39m}\u001b[0m\u001b[1;39m\n",
      "                    \u001b[1;39m}\u001b[0m\u001b[1;39m,\n",
      "                    \u001b[0m\u001b[34;1m\"then\"\u001b[0m\u001b[1;39m: \u001b[0m\u001b[1;39m{\n",
      "                      \u001b[0m\u001b[34;1m\"else\"\u001b[0m\u001b[1;39m: \u001b[0m\u001b[1;39m{\n",
      "                        \u001b[0m\u001b[34;1m\"else\"\u001b[0m\u001b[1;39m: \u001b[0m\u001b[0;32m\"close\"\u001b[0m\u001b[1;39m,\n",
      "                        \u001b[0m\u001b[34;1m\"if\"\u001b[0m\u001b[1;39m: \u001b[0m\u001b[1;39m{\n",
      "                          \u001b[0m\u001b[34;1m\"equal_to\"\u001b[0m\u001b[1;39m: \u001b[0m\u001b[0;39m2\u001b[0m\u001b[1;39m,\n",
      "                          \u001b[0m\u001b[34;1m\"value\"\u001b[0m\u001b[1;39m: \u001b[0m\u001b[1;39m{\n",
      "                            \u001b[0m\u001b[34;1m\"value_of_choice\"\u001b[0m\u001b[1;39m: \u001b[0m\u001b[1;39m{\n",
      "                              \u001b[0m\u001b[34;1m\"choice_name\"\u001b[0m\u001b[1;39m: \u001b[0m\u001b[0;32m\"winner\"\u001b[0m\u001b[1;39m,\n",
      "                              \u001b[0m\u001b[34;1m\"choice_owner\"\u001b[0m\u001b[1;39m: \u001b[0m\u001b[1;39m{\n",
      "                                \u001b[0m\u001b[34;1m\"role_token\"\u001b[0m\u001b[1;39m: \u001b[0m\u001b[0;32m\"Charlie\"\u001b[0m\u001b[1;39m\n",
      "                              \u001b[1;39m}\u001b[0m\u001b[1;39m\n",
      "                            \u001b[1;39m}\u001b[0m\u001b[1;39m\n",
      "                          \u001b[1;39m}\u001b[0m\u001b[1;39m\n",
      "                        \u001b[1;39m}\u001b[0m\u001b[1;39m,\n",
      "                        \u001b[0m\u001b[34;1m\"then\"\u001b[0m\u001b[1;39m: \u001b[0m\u001b[1;39m{\n",
      "                          \u001b[0m\u001b[34;1m\"from_account\"\u001b[0m\u001b[1;39m: \u001b[0m\u001b[1;39m{\n",
      "                            \u001b[0m\u001b[34;1m\"role_token\"\u001b[0m\u001b[1;39m: \u001b[0m\u001b[0;32m\"Alice\"\u001b[0m\u001b[1;39m\n",
      "                          \u001b[1;39m}\u001b[0m\u001b[1;39m,\n",
      "                          \u001b[0m\u001b[34;1m\"pay\"\u001b[0m\u001b[1;39m: \u001b[0m\u001b[0;39m100000000\u001b[0m\u001b[1;39m,\n",
      "                          \u001b[0m\u001b[34;1m\"then\"\u001b[0m\u001b[1;39m: \u001b[0m\u001b[0;32m\"close\"\u001b[0m\u001b[1;39m,\n",
      "                          \u001b[0m\u001b[34;1m\"to\"\u001b[0m\u001b[1;39m: \u001b[0m\u001b[1;39m{\n",
      "                            \u001b[0m\u001b[34;1m\"account\"\u001b[0m\u001b[1;39m: \u001b[0m\u001b[1;39m{\n",
      "                              \u001b[0m\u001b[34;1m\"role_token\"\u001b[0m\u001b[1;39m: \u001b[0m\u001b[0;32m\"Bob\"\u001b[0m\u001b[1;39m\n",
      "                            \u001b[1;39m}\u001b[0m\u001b[1;39m\n",
      "                          \u001b[1;39m}\u001b[0m\u001b[1;39m,\n",
      "                          \u001b[0m\u001b[34;1m\"token\"\u001b[0m\u001b[1;39m: \u001b[0m\u001b[1;39m{\n",
      "                            \u001b[0m\u001b[34;1m\"currency_symbol\"\u001b[0m\u001b[1;39m: \u001b[0m\u001b[0;32m\"\"\u001b[0m\u001b[1;39m,\n",
      "                            \u001b[0m\u001b[34;1m\"token_name\"\u001b[0m\u001b[1;39m: \u001b[0m\u001b[0;32m\"\"\u001b[0m\u001b[1;39m\n",
      "                          \u001b[1;39m}\u001b[0m\u001b[1;39m\n",
      "                        \u001b[1;39m}\u001b[0m\u001b[1;39m\n",
      "                      \u001b[1;39m}\u001b[0m\u001b[1;39m,\n",
      "                      \u001b[0m\u001b[34;1m\"if\"\u001b[0m\u001b[1;39m: \u001b[0m\u001b[1;39m{\n",
      "                        \u001b[0m\u001b[34;1m\"equal_to\"\u001b[0m\u001b[1;39m: \u001b[0m\u001b[0;39m1\u001b[0m\u001b[1;39m,\n",
      "                        \u001b[0m\u001b[34;1m\"value\"\u001b[0m\u001b[1;39m: \u001b[0m\u001b[1;39m{\n",
      "                          \u001b[0m\u001b[34;1m\"value_of_choice\"\u001b[0m\u001b[1;39m: \u001b[0m\u001b[1;39m{\n",
      "                            \u001b[0m\u001b[34;1m\"choice_name\"\u001b[0m\u001b[1;39m: \u001b[0m\u001b[0;32m\"winner\"\u001b[0m\u001b[1;39m,\n",
      "                            \u001b[0m\u001b[34;1m\"choice_owner\"\u001b[0m\u001b[1;39m: \u001b[0m\u001b[1;39m{\n",
      "                              \u001b[0m\u001b[34;1m\"role_token\"\u001b[0m\u001b[1;39m: \u001b[0m\u001b[0;32m\"Charlie\"\u001b[0m\u001b[1;39m\n",
      "                            \u001b[1;39m}\u001b[0m\u001b[1;39m\n",
      "                          \u001b[1;39m}\u001b[0m\u001b[1;39m\n",
      "                        \u001b[1;39m}\u001b[0m\u001b[1;39m\n",
      "                      \u001b[1;39m}\u001b[0m\u001b[1;39m,\n",
      "                      \u001b[0m\u001b[34;1m\"then\"\u001b[0m\u001b[1;39m: \u001b[0m\u001b[1;39m{\n",
      "                        \u001b[0m\u001b[34;1m\"from_account\"\u001b[0m\u001b[1;39m: \u001b[0m\u001b[1;39m{\n",
      "                          \u001b[0m\u001b[34;1m\"role_token\"\u001b[0m\u001b[1;39m: \u001b[0m\u001b[0;32m\"Bob\"\u001b[0m\u001b[1;39m\n",
      "                        \u001b[1;39m}\u001b[0m\u001b[1;39m,\n",
      "                        \u001b[0m\u001b[34;1m\"pay\"\u001b[0m\u001b[1;39m: \u001b[0m\u001b[0;39m100000000\u001b[0m\u001b[1;39m,\n",
      "                        \u001b[0m\u001b[34;1m\"then\"\u001b[0m\u001b[1;39m: \u001b[0m\u001b[0;32m\"close\"\u001b[0m\u001b[1;39m,\n",
      "                        \u001b[0m\u001b[34;1m\"to\"\u001b[0m\u001b[1;39m: \u001b[0m\u001b[1;39m{\n",
      "                          \u001b[0m\u001b[34;1m\"account\"\u001b[0m\u001b[1;39m: \u001b[0m\u001b[1;39m{\n",
      "                            \u001b[0m\u001b[34;1m\"role_token\"\u001b[0m\u001b[1;39m: \u001b[0m\u001b[0;32m\"Alice\"\u001b[0m\u001b[1;39m\n",
      "                          \u001b[1;39m}\u001b[0m\u001b[1;39m\n",
      "                        \u001b[1;39m}\u001b[0m\u001b[1;39m,\n",
      "                        \u001b[0m\u001b[34;1m\"token\"\u001b[0m\u001b[1;39m: \u001b[0m\u001b[1;39m{\n",
      "                          \u001b[0m\u001b[34;1m\"currency_symbol\"\u001b[0m\u001b[1;39m: \u001b[0m\u001b[0;32m\"\"\u001b[0m\u001b[1;39m,\n",
      "                          \u001b[0m\u001b[34;1m\"token_name\"\u001b[0m\u001b[1;39m: \u001b[0m\u001b[0;32m\"\"\u001b[0m\u001b[1;39m\n",
      "                        \u001b[1;39m}\u001b[0m\u001b[1;39m\n",
      "                      \u001b[1;39m}\u001b[0m\u001b[1;39m\n",
      "                    \u001b[1;39m}\u001b[0m\u001b[1;39m\n",
      "                  \u001b[1;39m}\u001b[0m\u001b[1;39m\n",
      "                \u001b[1;39m]\u001b[0m\u001b[1;39m\n",
      "              \u001b[1;39m}\u001b[0m\u001b[1;39m\n",
      "            \u001b[1;39m}\u001b[0m\u001b[1;39m\n",
      "          \u001b[1;39m]\u001b[0m\u001b[1;39m\n",
      "        \u001b[1;39m}\u001b[0m\u001b[1;39m\n",
      "      \u001b[1;39m}\u001b[0m\u001b[1;39m\n",
      "    \u001b[1;39m]\u001b[0m\u001b[1;39m\n",
      "  \u001b[1;39m}\u001b[0m\u001b[1;39m,\n",
      "  \u001b[0m\u001b[34;1m\"metadata\"\u001b[0m\u001b[1;39m: \u001b[0m\u001b[1;39m{}\u001b[0m\u001b[1;39m,\n",
      "  \u001b[0m\u001b[34;1m\"minUTxODeposit\"\u001b[0m\u001b[1;39m: \u001b[0m\u001b[0;39m2000000\u001b[0m\u001b[1;39m,\n",
      "  \u001b[0m\u001b[34;1m\"roles\"\u001b[0m\u001b[1;39m: \u001b[0m\u001b[1;39m{\n",
      "    \u001b[0m\u001b[34;1m\"Alice\"\u001b[0m\u001b[1;39m: \u001b[0m\u001b[0;32m\"addr_test1vp25zqq382ewtkafmejeu37m7qjwcly8s5rm4nzc3vzavqcnq90w5\"\u001b[0m\u001b[1;39m,\n",
      "    \u001b[0m\u001b[34;1m\"Bob\"\u001b[0m\u001b[1;39m: \u001b[0m\u001b[0;32m\"addr_test1vp9lcx33v29jvenwaj8n20mhqy8v8dckj7yp055707egw7ge7c30c\"\u001b[0m\u001b[1;39m,\n",
      "    \u001b[0m\u001b[34;1m\"Charlie\"\u001b[0m\u001b[1;39m: \u001b[0m\u001b[0;32m\"addr_test1vqcr8jzg0p5wnrjnlfq5jq905je4snx6ze4m8nk62yyjuccec5lke\"\u001b[0m\u001b[1;39m\n",
      "  \u001b[1;39m}\u001b[0m\u001b[1;39m,\n",
      "  \u001b[0m\u001b[34;1m\"tags\"\u001b[0m\u001b[1;39m: \u001b[0m\u001b[1;39m{}\u001b[0m\u001b[1;39m,\n",
      "  \u001b[0m\u001b[34;1m\"version\"\u001b[0m\u001b[1;39m: \u001b[0m\u001b[0;32m\"v1\"\u001b[0m\u001b[1;39m\n",
      "\u001b[1;39m}\u001b[0m\n"
     ]
    }
   ],
   "source": [
    "yaml2json << EOI > request-1.json\n",
    "version: v1\n",
    "contract: `cat lottery-contract.json`\n",
    "roles:\n",
    "  Alice: \"$ALICE_ADDR\"\n",
    "  Bob: \"$BOB_ADDR\"\n",
    "  Charlie: \"$CHARLIE_ADDR\"\n",
    "minUTxODeposit: $MIN_LOVELACE\n",
    "metadata: {}\n",
    "tags: {}\n",
    "EOI\n",
    "cat request-1.json | jq\n"
   ]
  },
  {
   "cell_type": "code",
   "execution_count": 30,
   "id": "2fe09c77",
   "metadata": {},
   "outputs": [
    {
     "name": "stdout",
     "output_type": "stream",
     "text": [
      "links:\n",
      "  contract: contracts/1c18d683699867980269d9c205d6f9e87b4494fb8bf28f69606ec019fc1ab1e6%231\n",
      "resource:\n",
      "  contractId: 1c18d683699867980269d9c205d6f9e87b4494fb8bf28f69606ec019fc1ab1e6#1\n",
      "  safetyErrors: []\n",
      "  txBody:\n",
      "    cborHex: 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\n"
     ]
    },
    {
     "name": "stdout",
     "output_type": "stream",
     "text": [
      "    description: ''\n",
      "    type: TxBodyBabbage\n"
     ]
    }
   ],
   "source": [
    "curl \"$MARLOWE_RT_WEBSERVER_URL/contracts\" \\\n",
    "  -X POST \\\n",
    "  -H 'Content-Type: application/json' \\\n",
    "  -H \"X-Change-Address: $CHARLIE_ADDR\" \\b\n",
    "  -d @request-1.json \\\n",
    "  -o response-1.json \\\n",
    "  -sS\n",
    "json2yaml response-1.json"
   ]
  },
  {
   "cell_type": "code",
   "execution_count": 31,
   "id": "5653fd7d",
   "metadata": {},
   "outputs": [
    {
     "name": "stdout",
     "output_type": "stream",
     "text": [
      "CONTRACT_ID = 1c18d683699867980269d9c205d6f9e87b4494fb8bf28f69606ec019fc1ab1e6#1\n"
     ]
    }
   ],
   "source": [
    "CONTRACT_ID=\"$(jq -r '.resource.contractId' response-1.json)\"\n",
    "echo \"CONTRACT_ID = $CONTRACT_ID\""
   ]
  },
  {
   "cell_type": "code",
   "execution_count": 32,
   "id": "8a72237c",
   "metadata": {},
   "outputs": [
    {
     "name": "stdout",
     "output_type": "stream",
     "text": [
      "12K\ttx-1.unsigned\n"
     ]
    }
   ],
   "source": [
    "jq '.resource.txBody' response-1.json > tx-1.unsigned\n",
    "du -hs tx-1.unsigned"
   ]
  },
  {
   "cell_type": "code",
   "execution_count": 33,
   "id": "2ab42266",
   "metadata": {},
   "outputs": [
    {
     "name": "stdout",
     "output_type": "stream",
     "text": [
      "submiting transaction...\n",
      "TX_1 = 1c18d683699867980269d9c205d6f9e87b4494fb8bf28f69606ec019fc1ab1e6\n"
     ]
    }
   ],
   "source": [
    "echo \"submiting transaction...\"\n",
    "TX_1=$(\n",
    "marlowe-cli transaction submit \\\n",
    "  --tx-body-file tx-1.unsigned \\\n",
    "  --required-signer \"$CHARLIE_SKEY\" \\\n",
    "  --timeout 600s \\\n",
    "| sed -e 's/^TxId \"\\(.*\\)\"$/\\1/' \\\n",
    ")\n",
    "echo \"TX_1 = $TX_1\""
   ]
  },
  {
   "cell_type": "code",
   "execution_count": 34,
   "id": "562c3af7",
   "metadata": {},
   "outputs": [
    {
     "name": "stdout",
     "output_type": "stream",
     "text": [
      "Cardano Scan (low level)\n",
      "https://preprod.cardanoscan.io/transaction/1c18d683699867980269d9c205d6f9e87b4494fb8bf28f69606ec019fc1ab1e6?tab=summary\n",
      "\n",
      "Marlowe Scan (high level)\n",
      "https://preprod.marlowescan.com/contractView?tab=info&contractId=1c18d683699867980269d9c205d6f9e87b4494fb8bf28f69606ec019fc1ab1e6%231\n"
     ]
    }
   ],
   "source": [
    "echo \"Cardano Scan (low level)\"\n",
    "$SCRIPTS/cardano-scan-tx.sh $TX_1\n",
    "echo\n",
    "echo \"Marlowe Scan (high level)\"\n",
    "$SCRIPTS/marlowe-scan.sh $CONTRACT_ID"
   ]
  },
  {
   "cell_type": "code",
   "execution_count": 38,
   "id": "8998cd36",
   "metadata": {},
   "outputs": [
    {
     "name": "stdout",
     "output_type": "stream",
     "text": [
      "CONTRACT_URL = http://web-server:3780/contracts/1c18d683699867980269d9c205d6f9e87b4494fb8bf28f69606ec019fc1ab1e6%231\n"
     ]
    }
   ],
   "source": [
    "CONTRACT_URL=\"$MARLOWE_RT_WEBSERVER_URL/`jq -r '.links.contract' response-1.json`\"\n",
    "echo \"CONTRACT_URL = $CONTRACT_URL\""
   ]
  },
  {
   "cell_type": "code",
   "execution_count": 39,
   "id": "e3f2517f",
   "metadata": {
    "scrolled": true
   },
   "outputs": [
    {
     "name": "stdout",
     "output_type": "stream",
     "text": [
      "input_from_party:\n",
      "  role_token: Bob\n",
      "into_account:\n",
      "  role_token: Bob\n",
      "of_token:\n",
      "  currency_symbol: ''\n",
      "  token_name: ''\n",
      "that_deposits: 100000000\n"
     ]
    }
   ],
   "source": [
    "marlowe-cli input deposit \\\n",
    "  --deposit-party Bob \\\n",
    "  --deposit-account Bob \\\n",
    "  --deposit-amount 100000000 \\\n",
    "  --out-file input-2.json\n",
    "json2yaml input-2.json"
   ]
  },
  {
   "cell_type": "code",
   "execution_count": 40,
   "id": "fcbd193c",
   "metadata": {},
   "outputs": [
    {
     "name": "stdout",
     "output_type": "stream",
     "text": [
      "{\"inputs\":[{\"input_from_party\":{\"role_token\":\"Bob\"},\"into_account\":{\"role_token\":\"Bob\"},\"of_token\":{\"currency_symbol\":\"\",\"token_name\":\"\"},\"that_deposits\":100000000}],\"metadata\":{},\"tags\":{},\"version\":\"v1\"}\n"
     ]
    }
   ],
   "source": [
    "yaml2json << EOI > request-2.json\n",
    "version: v1\n",
    "inputs: [$(cat input-2.json)]\n",
    "metadata: {}\n",
    "tags: {}\n",
    "EOI\n",
    "cat request-2.json"
   ]
  },
  {
   "cell_type": "code",
   "execution_count": 41,
   "id": "f447844c",
   "metadata": {},
   "outputs": [
    {
     "name": "stdout",
     "output_type": "stream",
     "text": [
      "links:\n",
      "  transaction: contracts/1c18d683699867980269d9c205d6f9e87b4494fb8bf28f69606ec019fc1ab1e6%231/transactions/38b1d664c1334b9ebdb0bf7520332b9cef7f354bc40a49ab3c2c656f311ef820\n",
      "resource:\n",
      "  contractId: 1c18d683699867980269d9c205d6f9e87b4494fb8bf28f69606ec019fc1ab1e6#1\n",
      "  transactionId: 38b1d664c1334b9ebdb0bf7520332b9cef7f354bc40a49ab3c2c656f311ef820\n",
      "  txBody:\n",
      "    cborHex: 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\n",
      "    description: ''\n",
      "    type: TxBodyBabbage\n"
     ]
    }
   ],
   "source": [
    "curl \"$CONTRACT_URL/transactions\" \\\n",
    "  -X POST \\\n",
    "  -H 'Content-Type: application/json' \\\n",
    "  -H \"X-Change-Address: $BOB_ADDR\" \\\n",
    "  -d @request-2.json \\\n",
    "  -o response-2.json \\\n",
    "  -sS\n",
    "json2yaml response-2.json"
   ]
  },
  {
   "cell_type": "code",
   "execution_count": 42,
   "id": "644101aa",
   "metadata": {},
   "outputs": [
    {
     "name": "stdout",
     "output_type": "stream",
     "text": [
      "4.0K\ttx-2.unsigned\n"
     ]
    }
   ],
   "source": [
    "jq '.resource.txBody' response-2.json > tx-2.unsigned\n",
    "du -hs tx-2.unsigned"
   ]
  },
  {
   "cell_type": "code",
   "execution_count": 44,
   "id": "cfaa981d",
   "metadata": {},
   "outputs": [
    {
     "name": "stdout",
     "output_type": "stream",
     "text": [
      "submiting transaction...\n",
      "TX_2 = 38b1d664c1334b9ebdb0bf7520332b9cef7f354bc40a49ab3c2c656f311ef820\n"
     ]
    }
   ],
   "source": [
    "echo \"submiting transaction...\"\n",
    "TX_2=$(\n",
    "marlowe-cli transaction submit \\\n",
    "  --tx-body-file tx-2.unsigned \\\n",
    "  --required-signer \"$BOB_SKEY\" \\\n",
    "  --timeout 600s \\\n",
    "| sed -e 's/^TxId \"\\(.*\\)\"$/\\1/' \\\n",
    ")\n",
    "echo \"TX_2 = $TX_2\""
   ]
  },
  {
   "cell_type": "code",
   "execution_count": 39,
   "id": "a4d29880",
   "metadata": {
    "scrolled": true
   },
   "outputs": [
    {
     "name": "stdout",
     "output_type": "stream",
     "text": [
      "input_from_party:\n",
      "  role_token: Bob\n",
      "into_account:\n",
      "  role_token: Bob\n",
      "of_token:\n",
      "  currency_symbol: ''\n",
      "  token_name: ''\n",
      "that_deposits: 100000000\n"
     ]
    }
   ],
   "source": [
    "marlowe-cli input deposit \\\n",
    "  --deposit-party Bob \\\n",
    "  --deposit-account Bob \\\n",
    "  --deposit-amount 100000000 \\\n",
    "  --out-file input-2.json\n",
    "json2yaml input-2.json"
   ]
  },
  {
   "cell_type": "code",
   "execution_count": 40,
   "id": "4584de46",
   "metadata": {},
   "outputs": [
    {
     "name": "stdout",
     "output_type": "stream",
     "text": [
      "{\"inputs\":[{\"input_from_party\":{\"role_token\":\"Bob\"},\"into_account\":{\"role_token\":\"Bob\"},\"of_token\":{\"currency_symbol\":\"\",\"token_name\":\"\"},\"that_deposits\":100000000}],\"metadata\":{},\"tags\":{},\"version\":\"v1\"}\n"
     ]
    }
   ],
   "source": [
    "yaml2json << EOI > request-2.json\n",
    "version: v1\n",
    "inputs: [$(cat input-2.json)]\n",
    "metadata: {}\n",
    "tags: {}\n",
    "EOI\n",
    "cat request-2.json"
   ]
  },
  {
   "cell_type": "code",
   "execution_count": 41,
   "id": "12e3a28c",
   "metadata": {},
   "outputs": [
    {
     "name": "stdout",
     "output_type": "stream",
     "text": [
      "links:\n",
      "  transaction: contracts/1c18d683699867980269d9c205d6f9e87b4494fb8bf28f69606ec019fc1ab1e6%231/transactions/38b1d664c1334b9ebdb0bf7520332b9cef7f354bc40a49ab3c2c656f311ef820\n",
      "resource:\n",
      "  contractId: 1c18d683699867980269d9c205d6f9e87b4494fb8bf28f69606ec019fc1ab1e6#1\n",
      "  transactionId: 38b1d664c1334b9ebdb0bf7520332b9cef7f354bc40a49ab3c2c656f311ef820\n",
      "  txBody:\n",
      "    cborHex: 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\n",
      "    description: ''\n",
      "    type: TxBodyBabbage\n"
     ]
    }
   ],
   "source": [
    "curl \"$CONTRACT_URL/transactions\" \\\n",
    "  -X POST \\\n",
    "  -H 'Content-Type: application/json' \\\n",
    "  -H \"X-Change-Address: $BOB_ADDR\" \\\n",
    "  -d @request-2.json \\\n",
    "  -o response-2.json \\\n",
    "  -sS\n",
    "json2yaml response-2.json"
   ]
  },
  {
   "cell_type": "code",
   "execution_count": 42,
   "id": "3ba64ba5",
   "metadata": {},
   "outputs": [
    {
     "name": "stdout",
     "output_type": "stream",
     "text": [
      "4.0K\ttx-2.unsigned\n"
     ]
    }
   ],
   "source": [
    "jq '.resource.txBody' response-2.json > tx-2.unsigned\n",
    "du -hs tx-2.unsigned"
   ]
  },
  {
   "cell_type": "code",
   "execution_count": 44,
   "id": "1eda3a51",
   "metadata": {},
   "outputs": [
    {
     "name": "stdout",
     "output_type": "stream",
     "text": [
      "submiting transaction...\n",
      "TX_2 = 38b1d664c1334b9ebdb0bf7520332b9cef7f354bc40a49ab3c2c656f311ef820\n"
     ]
    }
   ],
   "source": [
    "echo \"submiting transaction...\"\n",
    "TX_2=$(\n",
    "marlowe-cli transaction submit \\\n",
    "  --tx-body-file tx-2.unsigned \\\n",
    "  --required-signer \"$BOB_SKEY\" \\\n",
    "  --timeout 600s \\\n",
    "| sed -e 's/^TxId \"\\(.*\\)\"$/\\1/' \\\n",
    ")\n",
    "echo \"TX_2 = $TX_2\""
   ]
  },
  {
   "cell_type": "code",
   "execution_count": 45,
   "id": "3ec054a6",
   "metadata": {
    "scrolled": true
   },
   "outputs": [
    {
     "name": "stdout",
     "output_type": "stream",
     "text": [
      "input_from_party:\n",
      "  role_token: Alice\n",
      "into_account:\n",
      "  role_token: Alice\n",
      "of_token:\n",
      "  currency_symbol: ''\n",
      "  token_name: ''\n",
      "that_deposits: 100000000\n"
     ]
    }
   ],
   "source": [
    "marlowe-cli input deposit \\\n",
    "  --deposit-party Alice \\\n",
    "  --deposit-account Alice \\\n",
    "  --deposit-amount 100000000 \\\n",
    "  --out-file input-3.json\n",
    "json2yaml input-3.json"
   ]
  },
  {
   "cell_type": "code",
   "execution_count": 46,
   "id": "9d1138c5",
   "metadata": {},
   "outputs": [
    {
     "name": "stdout",
     "output_type": "stream",
     "text": [
      "{\"inputs\":[{\"input_from_party\":{\"role_token\":\"Alice\"},\"into_account\":{\"role_token\":\"Alice\"},\"of_token\":{\"currency_symbol\":\"\",\"token_name\":\"\"},\"that_deposits\":100000000}],\"metadata\":{},\"tags\":{},\"version\":\"v1\"}\n"
     ]
    }
   ],
   "source": [
    "yaml2json << EOI > request-3.json\n",
    "version: v1\n",
    "inputs: [$(cat input-3.json)]\n",
    "metadata: {}\n",
    "tags: {}\n",
    "EOI\n",
    "cat request-3.json"
   ]
  },
  {
   "cell_type": "code",
   "execution_count": 47,
   "id": "5ce5e69b",
   "metadata": {},
   "outputs": [
    {
     "name": "stdout",
     "output_type": "stream",
     "text": [
      "links:\n",
      "  transaction: contracts/1c18d683699867980269d9c205d6f9e87b4494fb8bf28f69606ec019fc1ab1e6%231/transactions/ddc975687728e532d068301936afa6753eda181018f4e426008c592ce8682ed9\n",
      "resource:\n",
      "  contractId: 1c18d683699867980269d9c205d6f9e87b4494fb8bf28f69606ec019fc1ab1e6#1\n",
      "  transactionId: ddc975687728e532d068301936afa6753eda181018f4e426008c592ce8682ed9\n",
      "  txBody:\n",
      "    cborHex: 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\n",
      "    description: ''\n",
      "    type: TxBodyBabbage\n"
     ]
    }
   ],
   "source": [
    "curl \"$CONTRACT_URL/transactions\" \\\n",
    "  -X POST \\\n",
    "  -H 'Content-Type: application/json' \\\n",
    "  -H \"X-Change-Address: $ALICE_ADDR\" \\\n",
    "  -d @request-3.json \\\n",
    "  -o response-3.json \\\n",
    "  -sS\n",
    "json2yaml response-3.json"
   ]
  },
  {
   "cell_type": "code",
   "execution_count": 48,
   "id": "4ff6f4aa",
   "metadata": {},
   "outputs": [
    {
     "name": "stdout",
     "output_type": "stream",
     "text": [
      "4.0K\ttx-3.unsigned\n"
     ]
    }
   ],
   "source": [
    "jq '.resource.txBody' response-3.json > tx-3.unsigned\n",
    "du -hs tx-3.unsigned"
   ]
  },
  {
   "cell_type": "code",
   "execution_count": 49,
   "id": "66df6a5f",
   "metadata": {},
   "outputs": [
    {
     "name": "stdout",
     "output_type": "stream",
     "text": [
      "submiting transaction...\n",
      "TX_3 = \n"
     ]
    }
   ],
   "source": [
    "echo \"submiting transaction...\"\n",
    "TX_3=$(\n",
    "marlowe-cli transaction submit \\\n",
    "  --tx-body-file tx-3.unsigned \\\n",
    "  --required-signer \"$ALICE_SKEY\" \\\n",
    "  --timeout 600s \\\n",
    "| sed -e 's/^TxId \"\\(.*\\)\"$/\\1/' \\\n",
    ")\n",
    "echo \"TX_3 = $TX_3\""
   ]
  },
  {
   "cell_type": "code",
   "execution_count": 54,
   "id": "ae9d5487",
   "metadata": {},
   "outputs": [
    {
     "name": "stdout",
     "output_type": "stream",
     "text": [
      "for_choice_id:\n",
      "  choice_name: winner\n",
      "  choice_owner:\n",
      "    role_token: Charlie\n",
      "input_that_chooses_num: 1\n"
     ]
    }
   ],
   "source": [
    "marlowe-cli input choose \\\n",
    "  --choice-name winner \\\n",
    "  --choice-party Charlie \\\n",
    "  --choice-number 1 \\\n",
    "  --out-file input-4.json\n",
    "json2yaml input-4.json"
   ]
  },
  {
   "cell_type": "code",
   "execution_count": 55,
   "id": "360dae6a",
   "metadata": {},
   "outputs": [
    {
     "name": "stdout",
     "output_type": "stream",
     "text": [
      "{\"inputs\":[{\"for_choice_id\":{\"choice_name\":\"winner\",\"choice_owner\":{\"role_token\":\"Charlie\"}},\"input_that_chooses_num\":1}],\"metadata\":{},\"tags\":{},\"version\":\"v1\"}\n"
     ]
    }
   ],
   "source": [
    "yaml2json << EOI > request-4.json\n",
    "version: v1\n",
    "inputs: [$(cat input-4.json)]\n",
    "metadata: {}\n",
    "tags: {}\n",
    "EOI\n",
    "cat request-4.json"
   ]
  },
  {
   "cell_type": "code",
   "execution_count": 56,
   "id": "5117d33a",
   "metadata": {},
   "outputs": [
    {
     "name": "stdout",
     "output_type": "stream",
     "text": [
      "links:\n",
      "  transaction: contracts/1c18d683699867980269d9c205d6f9e87b4494fb8bf28f69606ec019fc1ab1e6%231/transactions/7d8e65c6dff0b1852f3b258228fb82756b8cab7025b4d14a6f0c398b213a58a1\n",
      "resource:\n",
      "  contractId: 1c18d683699867980269d9c205d6f9e87b4494fb8bf28f69606ec019fc1ab1e6#1\n",
      "  transactionId: 7d8e65c6dff0b1852f3b258228fb82756b8cab7025b4d14a6f0c398b213a58a1\n",
      "  txBody:\n",
      "    cborHex: 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\n",
      "    description: ''\n",
      "    type: TxBodyBabbage\n"
     ]
    }
   ],
   "source": [
    "curl \"$CONTRACT_URL/transactions\" \\\n",
    "  -X POST \\\n",
    "  -H 'Content-Type: application/json' \\\n",
    "  -H \"X-Change-Address: $CHARLIE_ADDR\" \\\n",
    "  -d @request-4.json \\\n",
    "  -o response-4.json \\\n",
    "  -sS\n",
    "json2yaml response-4.json"
   ]
  },
  {
   "cell_type": "code",
   "execution_count": 57,
   "id": "3e0ba70a",
   "metadata": {},
   "outputs": [
    {
     "name": "stdout",
     "output_type": "stream",
     "text": [
      "4.0K\ttx-4.unsigned\n"
     ]
    }
   ],
   "source": [
    "jq '.resource.txBody' response-4.json > tx-4.unsigned\n",
    "du -hs tx-4.unsigned"
   ]
  },
  {
   "cell_type": "code",
   "execution_count": 58,
   "id": "f9510e56",
   "metadata": {},
   "outputs": [
    {
     "name": "stdout",
     "output_type": "stream",
     "text": [
      "submiting transaction...\n",
      "TX_4 = 7d8e65c6dff0b1852f3b258228fb82756b8cab7025b4d14a6f0c398b213a58a1\n"
     ]
    }
   ],
   "source": [
    "echo \"submiting transaction...\"\n",
    "TX_4=$(\n",
    "marlowe-cli transaction submit \\\n",
    "  --tx-body-file tx-4.unsigned \\\n",
    "  --required-signer \"$CHARLIE_SKEY\" \\\n",
    "  --timeout 600s \\\n",
    "| sed -e 's/^TxId \"\\(.*\\)\"$/\\1/' \\\n",
    ")\n",
    "echo \"TX_4 = $TX_4\""
   ]
  },
  {
   "cell_type": "code",
   "execution_count": 59,
   "id": "83b8b746",
   "metadata": {},
   "outputs": [
    {
     "name": "stdout",
     "output_type": "stream",
     "text": [
      "\u001b[1;39m{\n",
      "  \u001b[0m\u001b[34;1m\"contractId\"\u001b[0m\u001b[1;39m: \u001b[0m\u001b[0;32m\"1c18d683699867980269d9c205d6f9e87b4494fb8bf28f69606ec019fc1ab1e6#1\"\u001b[0m\u001b[1;39m,\n",
      "  \u001b[0m\u001b[34;1m\"role\"\u001b[0m\u001b[1;39m: \u001b[0m\u001b[0;32m\"Alice\"\u001b[0m\u001b[1;39m\n",
      "\u001b[1;39m}\u001b[0m\n"
     ]
    }
   ],
   "source": [
    "yaml2json << EOI > request-5.json\n",
    "contractId: \"$CONTRACT_ID\"\n",
    "role: Alice\n",
    "EOI\n",
    "cat request-5.json | jq"
   ]
  },
  {
   "cell_type": "code",
   "execution_count": 60,
   "id": "3674c2fe",
   "metadata": {},
   "outputs": [
    {
     "name": "stdout",
     "output_type": "stream",
     "text": [
      "links:\n",
      "  withdrawal: withdrawals/a0399bb51588da62874416db15b795bf2f2d681d7759ec93a7323cc7ce71ddbd\n",
      "resource:\n",
      "  txBody:\n",
      "    cborHex: 86a800838258207d8e65c6dff0b1852f3b258228fb82756b8cab7025b4d14a6f0c398b213a58a102825820ddc975687728e532d068301936afa6753eda181018f4e426008c592ce8682ed900825820ddc975687728e532d068301936afa6753eda181018f4e426008c592ce8682ed9020d81825820ddc975687728e532d068301936afa6753eda181018f4e426008c592ce8682ed90012818258209a8a6f387a3330b4141e1cb019380b9ac5c72151c0abc52aa4266245d3c555cd020182a200581d60554100113ab2e5dba9de659e47dbf024ec7c878507bacc588b05d603011a417fed0da200581d60554100113ab2e5dba9de659e47dbf024ec7c878507bacc588b05d60301821a000fb7caa1581cd86a6097ad1b472d5aac01472d5e7a6ce20c91e46187e9c5b02e8aa1a145416c6963650110a200581d60554100113ab2e5dba9de659e47dbf024ec7c878507bacc588b05d603011a35919bb9111a0007adfc021a00051ea80b5820d25f6790af25771dd174ea89debcc3e8f867a47b331a99e153cf031a8943f57d9fff81d8799f581cd86a6097ad1b472d5aac01472d5e7a6ce20c91e46187e9c5b02e8aa145416c696365ff81840000d87980821a001c64b21a1eb3e9a8f5f6\n",
      "    description: ''\n",
      "    type: TxBodyBabbage\n",
      "  withdrawalId: a0399bb51588da62874416db15b795bf2f2d681d7759ec93a7323cc7ce71ddbd\n"
     ]
    }
   ],
   "source": [
    "curl \"$MARLOWE_RT_WEBSERVER_URL/withdrawals\" \\\n",
    "  -X POST \\\n",
    "  -H 'Content-Type: application/json' \\\n",
    "  -H \"X-Change-Address: $ALICE_ADDR\" \\\n",
    "  -d @request-5.json \\\n",
    "  -o response-5.json \\\n",
    "  -sS\n",
    "json2yaml response-5.json"
   ]
  },
  {
   "cell_type": "code",
   "execution_count": 61,
   "id": "cbea3151",
   "metadata": {},
   "outputs": [
    {
     "name": "stdout",
     "output_type": "stream",
     "text": [
      "4.0K\ttx-5.unsigned\n"
     ]
    }
   ],
   "source": [
    "jq '.resource.txBody' response-5.json > tx-5.unsigned\n",
    "du -hs tx-5.unsigned"
   ]
  },
  {
   "cell_type": "code",
   "execution_count": 62,
   "id": "37d92ec8",
   "metadata": {},
   "outputs": [
    {
     "name": "stdout",
     "output_type": "stream",
     "text": [
      "submiting transaction...\n",
      "TX_5 = a0399bb51588da62874416db15b795bf2f2d681d7759ec93a7323cc7ce71ddbd\n"
     ]
    }
   ],
   "source": [
    "echo \"submiting transaction...\"\n",
    "TX_5=$(\n",
    "marlowe-cli transaction submit \\\n",
    "  --tx-body-file tx-5.unsigned \\\n",
    "  --required-signer \"$ALICE_SKEY\" \\\n",
    "  --timeout 600s \\\n",
    "| sed -e 's/^TxId \"\\(.*\\)\"$/\\1/' \\\n",
    ")\n",
    "echo \"TX_5 = $TX_5\""
   ]
  }
 ],
 "metadata": {
  "kernelspec": {
   "display_name": "Bash with Marlowe Tools",
   "language": "bash",
   "name": "bash-minimal"
  },
  "language_info": {
   "codemirror_mode": "shell",
   "file_extension": ".sh",
   "mimetype": "text/x-sh",
   "name": "bash"
  }
 },
 "nbformat": 4,
 "nbformat_minor": 5
}
